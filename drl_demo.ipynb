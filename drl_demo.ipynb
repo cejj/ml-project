{
 "cells": [
  {
   "cell_type": "code",
   "execution_count": 13,
   "metadata": {
    "collapsed": true,
    "jupyter": {
     "outputs_hidden": true
    }
   },
   "outputs": [
    {
     "name": "stdout",
     "output_type": "stream",
     "text": [
      "Collecting google-cloud-documentai\n",
      "  Downloading google_cloud_documentai-0.3.0-py2.py3-none-any.whl (105 kB)\n",
      "\u001b[K     |████████████████████████████████| 105 kB 27.1 MB/s eta 0:00:01\n",
      "\u001b[?25hRequirement already satisfied: proto-plus>=1.10.0 in /opt/conda/lib/python3.7/site-packages (from google-cloud-documentai) (1.11.0)\n",
      "Requirement already satisfied: google-api-core[grpc]<2.0.0dev,>=1.22.0 in /opt/conda/lib/python3.7/site-packages (from google-cloud-documentai) (1.22.4)\n",
      "Requirement already satisfied: protobuf>=3.12.0 in /opt/conda/lib/python3.7/site-packages (from proto-plus>=1.10.0->google-cloud-documentai) (3.13.0)\n",
      "Requirement already satisfied: googleapis-common-protos<2.0dev,>=1.6.0 in /opt/conda/lib/python3.7/site-packages (from google-api-core[grpc]<2.0.0dev,>=1.22.0->google-cloud-documentai) (1.52.0)\n",
      "Requirement already satisfied: six>=1.13.0 in /opt/conda/lib/python3.7/site-packages (from google-api-core[grpc]<2.0.0dev,>=1.22.0->google-cloud-documentai) (1.15.0)\n",
      "Requirement already satisfied: setuptools>=34.0.0 in /opt/conda/lib/python3.7/site-packages (from google-api-core[grpc]<2.0.0dev,>=1.22.0->google-cloud-documentai) (50.3.2)\n",
      "Requirement already satisfied: requests<3.0.0dev,>=2.18.0 in /opt/conda/lib/python3.7/site-packages (from google-api-core[grpc]<2.0.0dev,>=1.22.0->google-cloud-documentai) (2.24.0)\n",
      "Requirement already satisfied: pytz in /opt/conda/lib/python3.7/site-packages (from google-api-core[grpc]<2.0.0dev,>=1.22.0->google-cloud-documentai) (2020.4)\n",
      "Requirement already satisfied: google-auth<2.0dev,>=1.21.1 in /opt/conda/lib/python3.7/site-packages (from google-api-core[grpc]<2.0.0dev,>=1.22.0->google-cloud-documentai) (1.23.0)\n",
      "Requirement already satisfied: grpcio<2.0dev,>=1.29.0; extra == \"grpc\" in /opt/conda/lib/python3.7/site-packages (from google-api-core[grpc]<2.0.0dev,>=1.22.0->google-cloud-documentai) (1.33.2)\n",
      "Requirement already satisfied: chardet<4,>=3.0.2 in /opt/conda/lib/python3.7/site-packages (from requests<3.0.0dev,>=2.18.0->google-api-core[grpc]<2.0.0dev,>=1.22.0->google-cloud-documentai) (3.0.4)\n",
      "Requirement already satisfied: certifi>=2017.4.17 in /opt/conda/lib/python3.7/site-packages (from requests<3.0.0dev,>=2.18.0->google-api-core[grpc]<2.0.0dev,>=1.22.0->google-cloud-documentai) (2020.11.8)\n",
      "Requirement already satisfied: idna<3,>=2.5 in /opt/conda/lib/python3.7/site-packages (from requests<3.0.0dev,>=2.18.0->google-api-core[grpc]<2.0.0dev,>=1.22.0->google-cloud-documentai) (2.10)\n",
      "Requirement already satisfied: urllib3!=1.25.0,!=1.25.1,<1.26,>=1.21.1 in /opt/conda/lib/python3.7/site-packages (from requests<3.0.0dev,>=2.18.0->google-api-core[grpc]<2.0.0dev,>=1.22.0->google-cloud-documentai) (1.25.11)\n",
      "Requirement already satisfied: rsa<5,>=3.1.4; python_version >= \"3.5\" in /opt/conda/lib/python3.7/site-packages (from google-auth<2.0dev,>=1.21.1->google-api-core[grpc]<2.0.0dev,>=1.22.0->google-cloud-documentai) (4.6)\n",
      "Requirement already satisfied: pyasn1-modules>=0.2.1 in /opt/conda/lib/python3.7/site-packages (from google-auth<2.0dev,>=1.21.1->google-api-core[grpc]<2.0.0dev,>=1.22.0->google-cloud-documentai) (0.2.8)\n",
      "Requirement already satisfied: cachetools<5.0,>=2.0.0 in /opt/conda/lib/python3.7/site-packages (from google-auth<2.0dev,>=1.21.1->google-api-core[grpc]<2.0.0dev,>=1.22.0->google-cloud-documentai) (4.1.1)\n",
      "Requirement already satisfied: pyasn1>=0.1.3 in /opt/conda/lib/python3.7/site-packages (from rsa<5,>=3.1.4; python_version >= \"3.5\"->google-auth<2.0dev,>=1.21.1->google-api-core[grpc]<2.0.0dev,>=1.22.0->google-cloud-documentai) (0.4.8)\n",
      "Installing collected packages: google-cloud-documentai\n",
      "Successfully installed google-cloud-documentai-0.3.0\n"
     ]
    }
   ],
   "source": [
    "!pip install google-cloud-documentai"
   ]
  },
  {
   "cell_type": "code",
   "execution_count": 17,
   "metadata": {},
   "outputs": [],
   "source": [
    "from google.cloud import documentai_v1beta2 as documentai"
   ]
  },
  {
   "cell_type": "code",
   "execution_count": 18,
   "metadata": {},
   "outputs": [],
   "source": [
    "client = documentai.DocumentUnderstandingServiceClient()"
   ]
  },
  {
   "cell_type": "code",
   "execution_count": 21,
   "metadata": {},
   "outputs": [],
   "source": [
    "input_uri = \"gs://jayadeep-etl-platform/docuai/demo-doc.pdf\"\n",
    "gcs_source = documentai.types.GcsSource(uri=input_uri)"
   ]
  },
  {
   "cell_type": "code",
   "execution_count": 22,
   "metadata": {},
   "outputs": [],
   "source": [
    "input_config = documentai.types.InputConfig(\n",
    "        gcs_source=gcs_source, mime_type=\"application/pdf\"\n",
    "    )"
   ]
  },
  {
   "cell_type": "code",
   "execution_count": 25,
   "metadata": {},
   "outputs": [],
   "source": [
    "table_extraction_params = documentai.types.TableExtractionParams(\n",
    "        enabled=True)\n",
    "project_id = \"jayadeep-etl-platform\"\n",
    "parent = \"projects/{}/locations/us\".format(project_id)\n",
    "request = documentai.types.ProcessDocumentRequest(\n",
    "        parent=parent,\n",
    "        input_config=input_config,\n",
    "        table_extraction_params=table_extraction_params,\n",
    "    )\n",
    "\n",
    "document = client.process_document(request=request)"
   ]
  },
  {
   "cell_type": "code",
   "execution_count": null,
   "metadata": {},
   "outputs": [],
   "source": [
    "def _get_text(el):\n",
    "        \"\"\"Convert text offset indexes into text snippets.\"\"\"\n",
    "        response = \"\"\n",
    "        # If a text segment spans several lines, it will\n",
    "        # be stored in different text segments.\n",
    "        for segment in el.text_anchor.text_segments:\n",
    "            start_index = segment.start_index\n",
    "            end_index = segment.end_index\n",
    "            response += document.text[start_index:end_index]\n",
    "        return response.replace('\\n','')"
   ]
  },
  {
   "cell_type": "code",
   "execution_count": 40,
   "metadata": {},
   "outputs": [
    {
     "name": "stdout",
     "output_type": "stream",
     "text": [
      "Page number: 1\n",
      "Table 0: \n",
      "Header Row 0: Strength: This text needs to be extracted\t\n",
      "Row 0: Name: ABC\tQuantity: 250\n",
      "Row 1: Issue No: PQ-43-97A\tDate: 01-01-2020\n",
      "Table 1: \n",
      "Header Row 0: Sequence\tFrames\tTracking withoutdistance cue P/R/F \tTracking withdistance cue P/R/F\n",
      "Row 0: UAV1\t616\t0.90/0.90/0.90\t0.94/0.94/0.94\n",
      "Row 1: UAV 2\t1833\t0.92/0.88/0.90\t0.96/0.99/0.97\n",
      "Row 2: Traffic 1\t156\t0.88/0.91/0.89\t0.96/0.98/0.97\n",
      "Row 3: Traffic 2\t227\t0.85/0.90/0.87\t0.97/0.97/0.97\n",
      "Row 4: Pedestrian 2\t338\t0.93/0.95/0.94\t1.00/1.00/1.00\n"
     ]
    }
   ],
   "source": [
    "for page in document.pages:\n",
    "        print(\"Page number: {}\".format(page.page_number))\n",
    "        for table_num, table in enumerate(page.tables):\n",
    "            print(\"Table {}: \".format(table_num))\n",
    "            for row_num, row in enumerate(table.header_rows):\n",
    "                cells = \"\\t\".join([_get_text(cell.layout) for cell in row.cells])\n",
    "                print(\"Header Row {}: {}\".format(row_num, cells))\n",
    "            for row_num, row in enumerate(table.body_rows):\n",
    "                #print (row)\n",
    "                cells = \"\\t\".join([_get_text(cell.layout) for cell in row.cells])\n",
    "                #print (cells)\n",
    "                print(\"Row {}: {}\".format(row_num, cells))"
   ]
  },
  {
   "cell_type": "code",
   "execution_count": null,
   "metadata": {},
   "outputs": [],
   "source": []
  }
 ],
 "metadata": {
  "environment": {
   "name": "tf2-2-3-gpu.2-3.m59",
   "type": "gcloud",
   "uri": "gcr.io/deeplearning-platform-release/tf2-2-3-gpu.2-3:m59"
  },
  "kernelspec": {
   "display_name": "Python 3",
   "language": "python",
   "name": "python3"
  },
  "language_info": {
   "codemirror_mode": {
    "name": "ipython",
    "version": 3
   },
   "file_extension": ".py",
   "mimetype": "text/x-python",
   "name": "python",
   "nbconvert_exporter": "python",
   "pygments_lexer": "ipython3",
   "version": "3.7.8"
  }
 },
 "nbformat": 4,
 "nbformat_minor": 4
}
